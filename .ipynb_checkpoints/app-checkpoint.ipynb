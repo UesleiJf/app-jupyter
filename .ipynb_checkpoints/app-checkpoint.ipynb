{
 "cells": [
  {
   "cell_type": "code",
   "execution_count": 24,
   "id": "90c4a3e9-1671-43bb-afe1-a57c4510a1a3",
   "metadata": {},
   "outputs": [],
   "source": [
    "import pandas as pd\n",
    "import matplotlib.pyplot as plt\n",
    "import ipywidgets as widgets"
   ]
  },
  {
   "cell_type": "code",
   "execution_count": 25,
   "id": "2fa2f15d-a6cb-40b5-ae4b-ec942f1d4f01",
   "metadata": {},
   "outputs": [],
   "source": [
    "filename = 'sales_data.csv'\n",
    "df = pd.read_csv(filename, index_col=0)"
   ]
  },
  {
   "cell_type": "code",
   "execution_count": 26,
   "id": "d101b457-89fc-476d-ae7f-6fa5e0b1b22f",
   "metadata": {},
   "outputs": [],
   "source": [
    "df['Sales'] = df['Quantity Ordered'] * df['Price Each']"
   ]
  },
  {
   "cell_type": "code",
   "execution_count": 28,
   "id": "263c85a4-f39f-4f9f-8934-432a96160978",
   "metadata": {},
   "outputs": [],
   "source": [
    "# ax = df.groupby(['Month']).sum()['Sales'].plot(kind='bar')\n",
    "# plt.ylabel('Sales ($)')\n",
    "# plt.xlabel('Month')\n",
    "# plt.show()"
   ]
  },
  {
   "cell_type": "code",
   "execution_count": 29,
   "id": "bb008f95-0ddd-4591-b31d-76e86fe826d1",
   "metadata": {},
   "outputs": [],
   "source": [
    "wid_city = widgets.Dropdown(name='City')"
   ]
  },
  {
   "cell_type": "code",
   "execution_count": 32,
   "id": "e9cbbb39-adff-40fc-81ad-758163c226c8",
   "metadata": {},
   "outputs": [],
   "source": [
    "# df.City.unique()"
   ]
  },
  {
   "cell_type": "code",
   "execution_count": 33,
   "id": "d9f04481-1e5d-4121-b843-78f8d6cbbc4d",
   "metadata": {},
   "outputs": [],
   "source": [
    "wid_city.options = list(df.City.unique())"
   ]
  },
  {
   "cell_type": "code",
   "execution_count": 34,
   "id": "d637b7f7-e516-4346-9376-5beba3115fda",
   "metadata": {},
   "outputs": [],
   "source": [
    "# wid_city"
   ]
  },
  {
   "cell_type": "code",
   "execution_count": 35,
   "id": "5f4bca5a-ed53-4aba-a30e-6d8ec26769e4",
   "metadata": {},
   "outputs": [],
   "source": [
    "# wid_city.value"
   ]
  },
  {
   "cell_type": "code",
   "execution_count": 36,
   "id": "c3586cea-48c7-4d76-b342-1e856852636f",
   "metadata": {},
   "outputs": [],
   "source": [
    "# df_tmp = df[df['City'] == wid_city.value]\n",
    "\n",
    "# ax = df_tmp.groupby(['Month']).sum()['Sales'].plot(kind='bar')\n",
    "# plt.ylabel('Sales ($)')\n",
    "# plt.xlabel('Month')\n",
    "# plt.show()"
   ]
  },
  {
   "cell_type": "code",
   "execution_count": 37,
   "id": "32a38d30-d2e7-4644-9468-48370408cae7",
   "metadata": {},
   "outputs": [
    {
     "data": {
      "application/vnd.jupyter.widget-view+json": {
       "model_id": "930919703e35445b90b6fcfd02398d48",
       "version_major": 2,
       "version_minor": 0
      },
      "text/plain": [
       "interactive(children=(Dropdown(description='city', options=('Dallas  (TX)', 'Boston  (MA)', 'Los Angeles  (CA)…"
      ]
     },
     "metadata": {},
     "output_type": "display_data"
    }
   ],
   "source": [
    "wid_city = widgets.Dropdown(name='City')\n",
    "wid_city.options = list(df.City.unique())\n",
    "\n",
    "wid_product = widgets.Dropdown(name='product')\n",
    "wid_product.options = list(df.Product.unique())\n",
    "\n",
    "def func(city, product):\n",
    "    df_tmp = df[df['City'] == wid_city.value].copy()\n",
    "    df_tmp = df_tmp[df_tmp['Product'] == wid_product.value]\n",
    "    \n",
    "    ax = df_tmp.groupby(['Month']).sum()['Sales'].plot(kind='bar')\n",
    "    plt.ylabel('Sales ($)')\n",
    "    plt.xlabel('Month')\n",
    "    plt.show()\n",
    "    \n",
    "interactive_plot = widgets.interactive(func, city=wid_city, product=wid_product)    \n",
    "\n",
    "output = interactive_plot.children[-1]\n",
    "output.layout.height = '350px'\n",
    "\n",
    "interactive_plot"
   ]
  }
 ],
 "metadata": {
  "kernelspec": {
   "display_name": "Python 3 (ipykernel)",
   "language": "python",
   "name": "python3"
  },
  "language_info": {
   "codemirror_mode": {
    "name": "ipython",
    "version": 3
   },
   "file_extension": ".py",
   "mimetype": "text/x-python",
   "name": "python",
   "nbconvert_exporter": "python",
   "pygments_lexer": "ipython3",
   "version": "3.8.10"
  }
 },
 "nbformat": 4,
 "nbformat_minor": 5
}
